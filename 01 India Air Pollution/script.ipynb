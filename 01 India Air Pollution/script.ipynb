{
 "cells": [
  {
   "cell_type": "markdown",
   "id": "25a6be13-e46b-4672-99b4-e7192a61b7fe",
   "metadata": {},
   "source": [
    "# #01 Challenge | Delhi's Air Quality Data"
   ]
  },
  {
   "cell_type": "markdown",
   "id": "2fa2f065-ce5e-49d2-b7fc-9bc1fac46108",
   "metadata": {},
   "source": [
    "We are starting the biweekly series of challenges in this Study Circle. After considering the topics you have suggested in the comments, we are kicking off with Time Series.\n",
    "\n",
    "## Why this Data topic?\n",
    "\n",
    "This morning, I read the Economist Espresso on [India's pollution season](https://espresso.economist.com/0ef63386fdcb3dc2c2914b319668ff81), and I thought it was a good idea to start the series of challenges with this topic.\n",
    "\n",
    "## Getting the Data\n",
    "\n",
    "After navigating many websites, such as India's [Central Pollution Control Board](https://cpcb.nic.in/National-Air-Quality-Index/) and WHO, I found [this website](https://aqicn.org/data-platform/register/) about Air Quality Data, where we can download the data from many places worldwide.\n",
    "\n",
    "I chose Delhi to be the city we will analyse in this challenge.\n",
    "\n",
    "Executing the following lines of code will produce the DataFrame we'll work with:"
   ]
  },
  {
   "cell_type": "code",
   "execution_count": 94,
   "id": "25975285-1590-4247-8c77-b00ccfe89a74",
   "metadata": {},
   "outputs": [
    {
     "data": {
      "text/html": [
       "<div>\n",
       "<style scoped>\n",
       "    .dataframe tbody tr th:only-of-type {\n",
       "        vertical-align: middle;\n",
       "    }\n",
       "\n",
       "    .dataframe tbody tr th {\n",
       "        vertical-align: top;\n",
       "    }\n",
       "\n",
       "    .dataframe thead th {\n",
       "        text-align: right;\n",
       "    }\n",
       "</style>\n",
       "<table border=\"1\" class=\"dataframe\">\n",
       "  <thead>\n",
       "    <tr style=\"text-align: right;\">\n",
       "      <th></th>\n",
       "      <th>pm25</th>\n",
       "      <th>pm10</th>\n",
       "      <th>o3</th>\n",
       "      <th>no2</th>\n",
       "      <th>so2</th>\n",
       "      <th>co</th>\n",
       "    </tr>\n",
       "    <tr>\n",
       "      <th>date</th>\n",
       "      <th></th>\n",
       "      <th></th>\n",
       "      <th></th>\n",
       "      <th></th>\n",
       "      <th></th>\n",
       "      <th></th>\n",
       "    </tr>\n",
       "  </thead>\n",
       "  <tbody>\n",
       "    <tr>\n",
       "      <th>2022-10-01</th>\n",
       "      <td>176</td>\n",
       "      <td>436</td>\n",
       "      <td>17</td>\n",
       "      <td>38</td>\n",
       "      <td>8</td>\n",
       "      <td>10</td>\n",
       "    </tr>\n",
       "    <tr>\n",
       "      <th>2022-10-02</th>\n",
       "      <td>171</td>\n",
       "      <td>344</td>\n",
       "      <td>17</td>\n",
       "      <td>43</td>\n",
       "      <td>4</td>\n",
       "      <td>15</td>\n",
       "    </tr>\n",
       "    <tr>\n",
       "      <th>...</th>\n",
       "      <td>...</td>\n",
       "      <td>...</td>\n",
       "      <td>...</td>\n",
       "      <td>...</td>\n",
       "      <td>...</td>\n",
       "      <td>...</td>\n",
       "    </tr>\n",
       "    <tr>\n",
       "      <th>2014-08-07</th>\n",
       "      <td></td>\n",
       "      <td></td>\n",
       "      <td>22</td>\n",
       "      <td>41</td>\n",
       "      <td>6</td>\n",
       "      <td>6</td>\n",
       "    </tr>\n",
       "    <tr>\n",
       "      <th>2021-07-31</th>\n",
       "      <td></td>\n",
       "      <td></td>\n",
       "      <td></td>\n",
       "      <td>11</td>\n",
       "      <td>4</td>\n",
       "      <td>12</td>\n",
       "    </tr>\n",
       "  </tbody>\n",
       "</table>\n",
       "<p>3035 rows × 6 columns</p>\n",
       "</div>"
      ],
      "text/plain": [
       "            pm25  pm10   o3  no2  so2   co\n",
       "date                                      \n",
       "2022-10-01   176   436   17   38    8   10\n",
       "2022-10-02   171   344   17   43    4   15\n",
       "...          ...   ...  ...  ...  ...  ...\n",
       "2014-08-07               22   41    6    6\n",
       "2021-07-31                    11    4   12\n",
       "\n",
       "[3035 rows x 6 columns]"
      ]
     },
     "execution_count": 94,
     "metadata": {},
     "output_type": "execute_result"
    }
   ],
   "source": [
    "import pandas as pd\n",
    "\n",
    "df = pd.read_csv('anand-vihar, delhi-air-quality.csv', parse_dates=['date'], index_col=0)\n",
    "df"
   ]
  },
  {
   "cell_type": "markdown",
   "id": "4f4b5d33-db5f-4c6d-937b-87cca50bf593",
   "metadata": {},
   "source": [
    "I needed to process the data to deliver a workable dataset in the following way:"
   ]
  },
  {
   "cell_type": "code",
   "execution_count": 95,
   "id": "69c7660e-bc75-4fb5-9684-b6ffab462993",
   "metadata": {},
   "outputs": [],
   "source": [
    "#remove whitespaces in columns\n",
    "df.columns = df.columns.str.strip()\n",
    "\n",
    "#get the rows with the numbers (some of them where whitespaces)\n",
    "series = df['pm25'].str.extract('(\\w+)')[0]\n",
    "\n",
    "#rolling average to armonize the data monthly\n",
    "series_monthly = series.rolling(int((52*7)/12)).mean()\n",
    "\n",
    "#remove missing dates\n",
    "series_monthly = series_monthly.dropna()\n",
    "\n",
    "#fill missing dates by linear interpolation\n",
    "series_monthly = series_monthly.interpolate(method='linear')\n",
    "\n",
    "#sorting the index to later make a reasonable plot\n",
    "series_monthly = series_monthly.sort_index()\n",
    "\n",
    "#aggregate the information by month\n",
    "series_monthly = series_monthly.to_period('M').groupby(level='date').mean()\n",
    "\n",
    "#process a timestamp to avoid errors with statsmodels' functions\n",
    "series_monthly = series_monthly.to_timestamp()\n",
    "\n",
    "#setting freq to avoid errors with statsmodels' functions\n",
    "series_monthly = series_monthly.asfreq(\"MS\").interpolate()\n",
    "\n",
    "#change the name of the pandas.Series\n",
    "series_monthly.name = 'air pollution pm25'"
   ]
  },
  {
   "cell_type": "markdown",
   "id": "ddba454f-3444-4c75-a8c7-7e3fdf3794d8",
   "metadata": {},
   "source": [
    "As we don't know the coding skills of this Study Circle member, we'll start with simple ARIMA models. From this point, we will iterate the procedure and improve the dynamic.\n",
    "\n",
    "To take on the challenge and maybe, receive some feedback, you should fork this repository to your GitHub account. Otherwise, you can download this script.\n",
    "\n",
    "The end goal is to develop an ARIMA model and plot the predictions against the actual data. Resulting in a plot like the following:\n",
    "\n",
    "![](final_plot.jpg)\n",
    "\n",
    "Nevertheless, you can develop this challenge in any way you find attractive. The essential point of this Study Circle is the interactivity between the members to generate value and knowledge.\n",
    "\n",
    "From your feedback, we could later work on different use cases. For example, we could later create a geospatial map in Python with the predictions.\n",
    "\n",
    "So, let's get on and good luck!\n",
    "\n",
    "You start with the following object:"
   ]
  },
  {
   "cell_type": "markdown",
   "id": "a3b913c2-a13e-441c-bee9-3a9268b84b4f",
   "metadata": {},
   "source": [
    "## Learning Materials\n",
    "\n",
    "Check out the following materials to learn how you could develop the challenge:\n",
    "\n",
    "- [Video Tutorial](https://www.youtube.com/watch?v=gqryqIlvEoM): How to develop ARIMA models to predict Stock Price"
   ]
  },
  {
   "cell_type": "markdown",
   "id": "cee31be4-4088-4f62-be05-6d5bbf921b40",
   "metadata": {},
   "source": [
    "## Start the challenge"
   ]
  },
  {
   "cell_type": "code",
   "execution_count": 96,
   "id": "878ad461-7f50-4805-b255-bda067c6c5f5",
   "metadata": {},
   "outputs": [
    {
     "data": {
      "text/plain": [
       "date\n",
       "2014-01-01    286.023457\n",
       "2014-02-01    281.428205\n",
       "                 ...    \n",
       "2022-08-01    115.487097\n",
       "2022-09-01    143.713333\n",
       "Freq: MS, Name: air pollution pm25, Length: 105, dtype: float64"
      ]
     },
     "execution_count": 96,
     "metadata": {},
     "output_type": "execute_result"
    }
   ],
   "source": [
    "series_monthly"
   ]
  }
 ],
 "metadata": {
  "kernelspec": {
   "display_name": "Python 3 (ipykernel)",
   "language": "python",
   "name": "python3"
  },
  "language_info": {
   "codemirror_mode": {
    "name": "ipython",
    "version": 3
   },
   "file_extension": ".py",
   "mimetype": "text/x-python",
   "name": "python",
   "nbconvert_exporter": "python",
   "pygments_lexer": "ipython3",
   "version": "3.9.13"
  },
  "toc-autonumbering": true
 },
 "nbformat": 4,
 "nbformat_minor": 5
}
