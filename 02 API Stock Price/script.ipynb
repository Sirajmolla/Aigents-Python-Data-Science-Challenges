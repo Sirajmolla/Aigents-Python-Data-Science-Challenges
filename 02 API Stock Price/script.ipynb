{
 "cells": [
  {
   "cell_type": "markdown",
   "id": "b5ddbbb3-9cc3-4da9-9012-8c81a8939b78",
   "metadata": {},
   "source": [
    "# #02 Challenge | Compare Stock Market Data using APIs"
   ]
  },
  {
   "cell_type": "markdown",
   "id": "faac2046-a50e-4d9c-ac5f-b1d06c33da93",
   "metadata": {},
   "source": [
    "<div class=\"alert alert-warning\">\n",
    "    Which was the most traded FAANG (Facebook, Apple, Google, Amazon, Netflix) stock over time?\n",
    "    <br>Write the Python code to create a chart where we compare the traded volume.\n",
    "</div>"
   ]
  },
  {
   "cell_type": "markdown",
   "id": "4a16d44d-2dde-4d5f-b626-8ba5f5c3ae15",
   "metadata": {},
   "source": [
    "![](plot.png)"
   ]
  },
  {
   "cell_type": "markdown",
   "id": "3eea086d-ba73-4e2a-bfad-765a3165cbe6",
   "metadata": {
    "tags": []
   },
   "source": [
    "## Why this Data topic?\n",
    "\n",
    "Well, who does not like the idea to make a profit by investing in the Stock Market? In this challenge, we'll walk you through the steps to compare different stock market Data."
   ]
  },
  {
   "cell_type": "markdown",
   "id": "a2503afc-0886-42d2-868c-cb3fec0c57cf",
   "metadata": {},
   "source": [
    "## Exercises"
   ]
  },
  {
   "cell_type": "markdown",
   "id": "f71ee103-9381-4923-b0cd-2b7349349ce7",
   "metadata": {},
   "source": [
    "### Download the Stock Market data using the [Alpha Vantage API](https://www.alphavantage.co/)\n",
    "\n",
    "The daily stock data since the year 2000, approx.\n",
    "\n",
    "Read [this tutorial](https://blog.resolvingpython.com/02-load-data-from-apis-to-a-pandas-dataframe-in-python) to learn how to work with APIs in Python."
   ]
  },
  {
   "cell_type": "code",
   "execution_count": null,
   "id": "de095d7c-bbc7-44b3-848e-2dde00624db2",
   "metadata": {},
   "outputs": [],
   "source": []
  },
  {
   "cell_type": "markdown",
   "id": "12da5219-e6fb-48da-81fb-3e41c6627d35",
   "metadata": {},
   "source": [
    "### Preprocess the Data\n",
    "\n",
    "You may need to apply some Data Preprocessing techniques to configure a table as follows:"
   ]
  },
  {
   "cell_type": "markdown",
   "id": "3e450e45-c5b4-4bd2-a203-26afeeba2f82",
   "metadata": {},
   "source": [
    "![](data.png)"
   ]
  },
  {
   "cell_type": "markdown",
   "id": "243711fe-b762-436b-b1ca-b84f0524636c",
   "metadata": {},
   "source": [
    "<div class=\"alert alert-info\">\n",
    "    <b>Tips</b>\n",
    "    <ul>\n",
    "        <li>Create a new column that indicates the ticker (aka symbol) of a stock.</li>\n",
    "        <li>Every row needs to represent one day for a particular stock.</li>\n",
    "        <li>If you want to apply mathematical operations in the columns, make sure the column dtype is numeric.</li>\n",
    "    </ul>\n",
    "</div>"
   ]
  },
  {
   "cell_type": "code",
   "execution_count": null,
   "id": "7c72d313-664e-481b-9e18-4d9b723e7e2c",
   "metadata": {},
   "outputs": [],
   "source": []
  },
  {
   "cell_type": "markdown",
   "id": "f1cdd613-33d5-4429-ba05-123d9e9184be",
   "metadata": {},
   "source": [
    "### Compute the aggregated Volume by Year\n",
    "\n",
    "Read [this tutorial](https://blog.resolvingpython.com/05-datetime-objects-potential-within-pandas-a-python-library) to understand how to work with DateTime objects in Python\n",
    "\n",
    "Read [this tutorial](https://blog.resolvingpython.com/03-grouping-pivot-tables) to understand how to group the operations by each category of a column (you want to calculate the volume by each stock)."
   ]
  },
  {
   "cell_type": "code",
   "execution_count": null,
   "id": "c66a7b7f-8f56-410b-8964-3c0bc3edc2fe",
   "metadata": {},
   "outputs": [],
   "source": []
  },
  {
   "cell_type": "markdown",
   "id": "d0893ebf-816d-4ae2-91ef-197df3e8ad3b",
   "metadata": {},
   "source": [
    "### Create a Visualization to compare the Traded Volume between the differnt Tickers"
   ]
  },
  {
   "cell_type": "markdown",
   "id": "2e148733-4e29-432e-9388-a9b8813655ed",
   "metadata": {},
   "source": [
    "Read [this tutorial](https://blog.resolvingpython.com/04-data-visualization-in-python) to understand how Data Visualization works in Python."
   ]
  },
  {
   "cell_type": "markdown",
   "id": "3eb14d69-f0d6-48a2-a099-6facc17c8401",
   "metadata": {},
   "source": [
    "<div class=\"alert alert-info\">\n",
    "    <b>Tips</b>\n",
    "    <ul>\n",
    "        <li>You need to use facets to create a different plot for each ticker, as we see in the following image:</li>\n",
    "    </ul>\n",
    "</div>"
   ]
  },
  {
   "cell_type": "markdown",
   "id": "86f2204a-d113-4924-847b-e9e300e727e4",
   "metadata": {},
   "source": [
    "![](plot.png)"
   ]
  },
  {
   "cell_type": "code",
   "execution_count": null,
   "id": "bb2b7d02-1d5d-4ba9-8f5b-dec48c997eba",
   "metadata": {},
   "outputs": [],
   "source": []
  }
 ],
 "metadata": {
  "kernelspec": {
   "display_name": "Python 3 (ipykernel)",
   "language": "python",
   "name": "python3"
  },
  "language_info": {
   "codemirror_mode": {
    "name": "ipython",
    "version": 3
   },
   "file_extension": ".py",
   "mimetype": "text/x-python",
   "name": "python",
   "nbconvert_exporter": "python",
   "pygments_lexer": "ipython3",
   "version": "3.10.6"
  },
  "toc-autonumbering": true
 },
 "nbformat": 4,
 "nbformat_minor": 5
}
